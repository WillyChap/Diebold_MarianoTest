{
 "cells": [
  {
   "cell_type": "code",
   "execution_count": 133,
   "metadata": {},
   "outputs": [],
   "source": [
    "import numpy as np\n",
    "import pandas as pd \n",
    "from statsmodels.tsa.stattools import acf, pacf, acovf\n",
    "import warnings\n",
    "from scipy import stats\n"
   ]
  },
  {
   "cell_type": "code",
   "execution_count": 201,
   "metadata": {},
   "outputs": [],
   "source": [
    "def DMtest(e1,e2,h=1,power=2,alternative='two.sided'):\n",
    "    d = np.abs(e1)**power - np.abs(e2)**2\n",
    "    dcov = acovf(d,nlag=h-1,fft=False,missing='drop')\n",
    "    dvar = np.sum(np.append(dcov[0],2*dcov[1:]))/len(d)\n",
    "    dv = dvar\n",
    "    if dv>0:\n",
    "        STATISTIC =np.nanmean(d)/np.sqrt(dv)\n",
    "    elif (h==1):\n",
    "        raise ValueError(\"Variance of DM statistic is zero\")\n",
    "    else: \n",
    "        warnings.warn('Variance is negative, using horizon h=1') \n",
    "        DMtest(e1,e2,h=1,power=power)   \n",
    "    n = len(d)\n",
    "    k = ((n + 1 - 2 * h + (h / n) * (h - 1)) / n) **(0.5)\n",
    "    STATISTIC = STATISTIC *k \n",
    "    \n",
    "    if alternative == 'two.sided':\n",
    "        PVAL = 2*stats.t.cdf(-np.abs(STATISTIC),df=n-1)\n",
    "    elif alternative == 'less':\n",
    "        PVAL = stats.t.cdf(STATISTIC,df=n-1)\n",
    "    elif alternative == 'greater':\n",
    "        PVAL = 1-stats.t.cdf(STATISTIC,df=n-1)\n",
    "        \n",
    "    PARAMETER = [h,power]\n",
    "    return_DICT = {\"DM\":STATISTIC,'forecast_horizon':h,'power':power,'p_val':PVAL,'Method':'Diebold-Mariano Test'\n",
    "                  }\n",
    "    return return_DICT\n",
    "\n",
    "\n",
    "def bh_correction(pval,level=0.05):\n",
    "    nn = len(pval)\n",
    "    pv_srt = sorted(pval)\n",
    "    limits = np.arange(1,nn+1)*level/nn\n",
    "    \n",
    "    if len(np.where(pv_srt<limits))==0:\n",
    "        discoveries = 0\n",
    "        return discoveries\n",
    "    else:\n",
    "        discoveries = np.max(np.where(pv_srt<limits))\n",
    "        return discoveries/nn "
   ]
  },
  {
   "cell_type": "code",
   "execution_count": 171,
   "metadata": {},
   "outputs": [
    {
     "data": {
      "text/plain": [
       "{'DM': 0.03609604786918916,\n",
       " 'forecast_horizon': 2,\n",
       " 'power': 2,\n",
       " 'p_val': 0.9715823158790085,\n",
       " 'Method': 'Diebold-Mariano Test'}"
      ]
     },
     "execution_count": 171,
     "metadata": {},
     "output_type": "execute_result"
    }
   ],
   "source": [
    "DF = pd.read_csv('dcov.csv')\n",
    "d=np.array(DF.loc[0,:])\n",
    "e1 = pd.read_csv('TESTwillfout1.csv')\n",
    "e1=np.array(e1.loc[0,:])\n",
    "\n",
    "e2 = pd.read_csv('TESTwillfout2.csv')\n",
    "e2=np.array(e2.loc[0,:])\n",
    "DMtest(e1,e2,h=2,power=2,alternative='two.sided')"
   ]
  },
  {
   "cell_type": "code",
   "execution_count": null,
   "metadata": {},
   "outputs": [],
   "source": []
  }
 ],
 "metadata": {
  "kernelspec": {
   "display_name": "Python (AnEn)",
   "language": "python",
   "name": "anen"
  },
  "language_info": {
   "codemirror_mode": {
    "name": "ipython",
    "version": 3
   },
   "file_extension": ".py",
   "mimetype": "text/x-python",
   "name": "python",
   "nbconvert_exporter": "python",
   "pygments_lexer": "ipython3",
   "version": "3.7.4"
  }
 },
 "nbformat": 4,
 "nbformat_minor": 2
}
