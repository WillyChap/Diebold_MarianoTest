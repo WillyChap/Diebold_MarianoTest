{
 "cells": [
  {
   "cell_type": "code",
   "execution_count": 133,
   "metadata": {},
   "outputs": [],
   "source": [
    "import numpy as np\n",
    "import pandas as pd \n",
    "from statsmodels.tsa.stattools import acf, pacf, acovf\n",
    "import warnings\n",
    "from scipy import stats\n"
   ]
  },
  {
   "cell_type": "code",
   "execution_count": 110,
   "metadata": {},
   "outputs": [],
   "source": [
    "DF = pd.read_csv('dcov.csv')\n",
    "d=np.array(DF.loc[0,:])"
   ]
  },
  {
   "cell_type": "code",
   "execution_count": 149,
   "metadata": {},
   "outputs": [
    {
     "data": {
      "text/plain": [
       "5"
      ]
     },
     "execution_count": 149,
     "metadata": {},
     "output_type": "execute_result"
    }
   ],
   "source": [
    "h"
   ]
  },
  {
   "cell_type": "code",
   "execution_count": 150,
   "metadata": {},
   "outputs": [
    {
     "ename": "SyntaxError",
     "evalue": "positional argument follows keyword argument (<ipython-input-150-a16aa6b2c29f>, line 13)",
     "output_type": "error",
     "traceback": [
      "\u001b[0;36m  File \u001b[0;32m\"<ipython-input-150-a16aa6b2c29f>\"\u001b[0;36m, line \u001b[0;32m13\u001b[0m\n\u001b[0;31m    DMtest(e1,e2,h=1,power)\u001b[0m\n\u001b[0m                    ^\u001b[0m\n\u001b[0;31mSyntaxError\u001b[0m\u001b[0;31m:\u001b[0m positional argument follows keyword argument\n"
     ]
    }
   ],
   "source": [
    "def DMtest(e1,e2,h=1,power=2):\n",
    "    d = np.abs(e1)**power - np.abs(e2)**2\n",
    "    dcov = acovf(d,nlag=h-1,fft=False,missing='drop')\n",
    "    dvar = np.sum(np.append(dcov[0],2*dcov[1:]))/len(d)\n",
    "    dv = dvar\n",
    "    \n",
    "    if dv>0:\n",
    "        STATISTIC =np.nanmean(d)/np.sqrt(dv)\n",
    "    elif (h==1):\n",
    "        raise ValueError(\"Variance of DM statistic is zero\")\n",
    "    else: \n",
    "        warnings.warn('Variance is negative, using horizon h=1') \n",
    "        DMtest(e1,e2,h=1,power)   \n",
    "    n = len(d)\n",
    "    k = ((n + 1 - 2 * h + (h / n) * (h - 1)) / n) **(0.5)\n",
    "    STATISTIC = STATISTIC *k \n",
    "    \n",
    "    if alternative == 'two.sided':\n",
    "        PVAL = 2*stats.t.cdf(-np.abs(STATISTIC),df=n-1)\n",
    "    elif alternative == 'less':\n",
    "        PVAL = stats.t.cdf(STATISTIC,df=n-1)\n",
    "    elif alternative == 'greater':\n",
    "        PVAL = 1-stats.t.cdf(STATISTIC,df=n-1)\n",
    "        \n",
    "    PARAMETER = [h,power]\n",
    "    return_DICT = {\"statistic\":STATISTIC,'h':h,'power':power,'P_val':PVAL,'Method':'Diebold -Mariano Test',\n",
    "                  }\n",
    "    return d.cov"
   ]
  },
  {
   "cell_type": "code",
   "execution_count": 121,
   "metadata": {},
   "outputs": [],
   "source": [
    "dcov = acovf(d,nlag=h-1,fft=False,missing='drop')\n",
    "dvar = np.sum(np.append(dcov[0],2*dcov[1:]))/len(d)\n",
    "dv = dvar\n",
    "    \n",
    "if dv>0:\n",
    "    STATISTIC =np.nanmean(d)/np.sqrt(dv)\n",
    "elif (h==1):\n",
    "    raise ValueError(\"Variance of DM statistic is zero\")\n",
    "else: \n",
    "    warnings.warn('Variance is negative, using horizon h=1') \n"
   ]
  },
  {
   "cell_type": "code",
   "execution_count": 145,
   "metadata": {},
   "outputs": [
    {
     "data": {
      "text/plain": [
       "0.0311022198936568"
      ]
     },
     "execution_count": 145,
     "metadata": {},
     "output_type": "execute_result"
    }
   ],
   "source": [
    "1-stats.t.cdf(STATISTIC,df=n-1)"
   ]
  },
  {
   "cell_type": "code",
   "execution_count": 144,
   "metadata": {},
   "outputs": [
    {
     "data": {
      "text/plain": [
       "1.8861596589944123"
      ]
     },
     "execution_count": 144,
     "metadata": {},
     "output_type": "execute_result"
    }
   ],
   "source": [
    "STATISTIC"
   ]
  },
  {
   "cell_type": "code",
   "execution_count": 141,
   "metadata": {},
   "outputs": [
    {
     "data": {
      "text/plain": [
       "0.06220443978731365"
      ]
     },
     "execution_count": 141,
     "metadata": {},
     "output_type": "execute_result"
    }
   ],
   "source": [
    "2*stats.t.cdf(-np.abs(STATISTIC),df=n-1)"
   ]
  },
  {
   "cell_type": "code",
   "execution_count": 136,
   "metadata": {},
   "outputs": [
    {
     "data": {
      "text/plain": [
       "100"
      ]
     },
     "execution_count": 136,
     "metadata": {},
     "output_type": "execute_result"
    }
   ],
   "source": [
    "n"
   ]
  },
  {
   "cell_type": "code",
   "execution_count": 140,
   "metadata": {},
   "outputs": [
    {
     "data": {
      "text/plain": [
       "0.9999992052234122"
      ]
     },
     "execution_count": 140,
     "metadata": {},
     "output_type": "execute_result"
    }
   ],
   "source": [
    "stats.t.cdf(10,df=10)"
   ]
  },
  {
   "cell_type": "code",
   "execution_count": null,
   "metadata": {},
   "outputs": [],
   "source": []
  },
  {
   "cell_type": "code",
   "execution_count": null,
   "metadata": {},
   "outputs": [],
   "source": []
  }
 ],
 "metadata": {
  "kernelspec": {
   "display_name": "Python (AnEn)",
   "language": "python",
   "name": "anen"
  },
  "language_info": {
   "codemirror_mode": {
    "name": "ipython",
    "version": 3
   },
   "file_extension": ".py",
   "mimetype": "text/x-python",
   "name": "python",
   "nbconvert_exporter": "python",
   "pygments_lexer": "ipython3",
   "version": "3.7.4"
  }
 },
 "nbformat": 4,
 "nbformat_minor": 2
}
